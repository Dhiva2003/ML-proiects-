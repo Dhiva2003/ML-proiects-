import pandas as pd
df = pd.read_csv('winequality-red.csv')
df.describe()
X = df[list(df.columns)[:-1]]
X
print(X.shape)
y = df['quality']
print(y.shape)
from sklearn.model_selection import train_test_split
X_train,X_test,y_train,y_test=train_test_split(X,y,test_size=0.20)
print(X_train.shape) # training data should be larger then the testing data
print(X_test.shape)
print(y_train.shape)
print(y_test.shape)
from sklearn.linear_model import LinearRegression
model = LinearRegression()
model.fit(X, y)
model.score(X,y)
X_new=[[7.4, 0.7, 0, 1.9,0.076,11,34,0.99,3.51,0.56,9.4]] # new test data
model.predict(X_new)
